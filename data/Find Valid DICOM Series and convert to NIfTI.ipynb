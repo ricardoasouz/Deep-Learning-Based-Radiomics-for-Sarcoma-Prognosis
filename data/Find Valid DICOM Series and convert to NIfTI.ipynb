{
 "cells": [
  {
   "cell_type": "code",
   "execution_count": 8,
   "id": "e14a31e2",
   "metadata": {},
   "outputs": [
    {
     "name": "stdout",
     "output_type": "stream",
     "text": [
      "[INFO] Scanning folder structure...\n",
      "[INFO] 0 folders found.\n",
      "[INFO] Checking for valid DICOM series...\n"
     ]
    },
    {
     "name": "stderr",
     "output_type": "stream",
     "text": [
      "0it [00:00, ?it/s]\n"
     ]
    },
    {
     "name": "stdout",
     "output_type": "stream",
     "text": [
      "[INFO] 0 valid DICOM series found.\n",
      "[INFO] Converting to NIfTI...\n"
     ]
    },
    {
     "name": "stderr",
     "output_type": "stream",
     "text": [
      "Converting: 0it [00:00, ?it/s]"
     ]
    },
    {
     "name": "stdout",
     "output_type": "stream",
     "text": [
      "[INFO] Conversion process completed.\n"
     ]
    },
    {
     "name": "stderr",
     "output_type": "stream",
     "text": [
      "\n"
     ]
    }
   ],
   "source": [
    "import os\n",
    "from pathlib import Path\n",
    "import pandas as pd\n",
    "import pydicom\n",
    "import dicom2nifti\n",
    "from tqdm import tqdm\n",
    "\n",
    "# Set paths\n",
    "BASE_DIR = Path(\"data/TCGA-SARC\").resolve()\n",
    "OUTPUT_DIR = BASE_DIR.parent / \"NIfTI\"\n",
    "os.makedirs(OUTPUT_DIR, exist_ok=True)\n",
    "\n",
    "# Step 1: Traverse directory structure\n",
    "print(\"[INFO] Scanning folder structure...\")\n",
    "all_dirs = [Path(dp) for dp, _, _ in os.walk(BASE_DIR)]\n",
    "df_structure = pd.DataFrame({'path': all_dirs})\n",
    "print(f\"[INFO] {len(df_structure)} folders found.\")\n",
    "\n",
    "# Step 2: Filter folders that contain valid DICOM series\n",
    "valid_series = []\n",
    "\n",
    "print(\"[INFO] Checking for valid DICOM series...\")\n",
    "for folder in tqdm(df_structure['path']):\n",
    "    try:\n",
    "        dicom_files = [f for f in os.listdir(folder) if f.lower().endswith(\".dcm\")]\n",
    "        if not dicom_files:\n",
    "            continue\n",
    "\n",
    "        # Check first file to confirm it's a valid DICOM with SeriesInstanceUID\n",
    "        ds = pydicom.dcmread(folder / dicom_files[0], stop_before_pixels=True)\n",
    "        if hasattr(ds, \"SeriesInstanceUID\"):\n",
    "            valid_series.append(folder)\n",
    "    except Exception:\n",
    "        continue\n",
    "\n",
    "print(f\"[INFO] {len(valid_series)} valid DICOM series found.\")\n",
    "\n",
    "# Step 3: Convert each valid series to NIfTI\n",
    "print(\"[INFO] Converting to NIfTI...\")\n",
    "for series_path in tqdm(valid_series, desc=\"Converting\"):\n",
    "    try:\n",
    "        patient_id = series_path.parts[-1]\n",
    "        output_path = OUTPUT_DIR / f\"{patient_id}.nii.gz\"\n",
    "        dicom2nifti.convert_directory(str(series_path), str(OUTPUT_DIR), reorient=True)\n",
    "    except Exception as e:\n",
    "        print(f\"[WARNING] Failed to convert {series_path}: {e}\")\n",
    "\n",
    "print(\"[INFO] Conversion process completed.\")\n"
   ]
  }
 ],
 "metadata": {
  "kernelspec": {
   "display_name": "radiomics",
   "language": "python",
   "name": "python3"
  },
  "language_info": {
   "codemirror_mode": {
    "name": "ipython",
    "version": 3
   },
   "file_extension": ".py",
   "mimetype": "text/x-python",
   "name": "python",
   "nbconvert_exporter": "python",
   "pygments_lexer": "ipython3",
   "version": "3.9.22"
  }
 },
 "nbformat": 4,
 "nbformat_minor": 5
}
