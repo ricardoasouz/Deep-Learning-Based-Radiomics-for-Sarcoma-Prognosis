{
 "cells": [
  {
   "cell_type": "code",
   "execution_count": 1,
   "id": "7a8da271",
   "metadata": {},
   "outputs": [
    {
     "name": "stdout",
     "output_type": "stream",
     "text": [
      "F1-score sem normalização: 0.931\n",
      "F1-score com Z-score normalization: 0.812\n"
     ]
    }
   ],
   "source": [
    "import numpy as np\n",
    "from sklearn.datasets import make_classification\n",
    "from sklearn.model_selection import train_test_split\n",
    "from sklearn.preprocessing import StandardScaler\n",
    "from sklearn.svm import SVC\n",
    "from sklearn.metrics import f1_score\n",
    "\n",
    "# 1. Simulando um conjunto de dados (como se fossem features radiômicos extraídos de MRI)\n",
    "X, y = make_classification(n_samples=500, n_features=20, n_informative=10, \n",
    "                           n_redundant=5, random_state=42)\n",
    "\n",
    "# Introduzindo variabilidade artificial (como diferentes intensidades de scanners)\n",
    "rng = np.random.RandomState(42)\n",
    "scaling_factors = rng.normal(loc=1.0, scale=0.5, size=X.shape[1])\n",
    "X_noisy = X * scaling_factors\n",
    "\n",
    "# Dividindo em treino e teste\n",
    "X_train, X_test, y_train, y_test = train_test_split(X_noisy, y, test_size=0.3, random_state=42)\n",
    "\n",
    "# 2. Modelo SEM normalização\n",
    "clf_raw = SVC()\n",
    "clf_raw.fit(X_train, y_train)\n",
    "y_pred_raw = clf_raw.predict(X_test)\n",
    "f1_raw = f1_score(y_test, y_pred_raw)\n",
    "\n",
    "# 3. Modelo COM normalização (Z-score)\n",
    "scaler = StandardScaler()\n",
    "X_train_scaled = scaler.fit_transform(X_train)\n",
    "X_test_scaled = scaler.transform(X_test)\n",
    "\n",
    "clf_scaled = SVC()\n",
    "clf_scaled.fit(X_train_scaled, y_train)\n",
    "y_pred_scaled = clf_scaled.predict(X_test)\n",
    "f1_scaled = f1_score(y_test, y_pred_scaled)\n",
    "\n",
    "# 4. Resultados\n",
    "print(f\"F1-score sem normalização: {f1_raw:.3f}\")\n",
    "print(f\"F1-score com Z-score normalization: {f1_scaled:.3f}\")\n"
   ]
  }
 ],
 "metadata": {
  "kernelspec": {
   "display_name": "base",
   "language": "python",
   "name": "python3"
  },
  "language_info": {
   "codemirror_mode": {
    "name": "ipython",
    "version": 3
   },
   "file_extension": ".py",
   "mimetype": "text/x-python",
   "name": "python",
   "nbconvert_exporter": "python",
   "pygments_lexer": "ipython3",
   "version": "3.11.5"
  }
 },
 "nbformat": 4,
 "nbformat_minor": 5
}
